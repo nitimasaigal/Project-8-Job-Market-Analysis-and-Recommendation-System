{
 "cells": [
  {
   "cell_type": "markdown",
   "metadata": {},
   "source": [
    "Importing Necessary Libraries"
   ]
  },
  {
   "cell_type": "code",
   "execution_count": 1,
   "metadata": {},
   "outputs": [],
   "source": [
    "import pandas as pd\n",
    "import numpy as np\n",
    "import matplotlib.pyplot as plt\n",
    "from sklearn.feature_extraction.text import CountVectorizer\n",
    "from scipy.stats import pearsonr\n",
    "from scipy.sparse import csr_matrix\n",
    "from statsmodels.tsa.seasonal import seasonal_decompose\n",
    "from statsmodels.tsa.holtwinters import ExponentialSmoothing\n",
    "from sklearn.metrics import mean_squared_error"
   ]
  },
  {
   "cell_type": "markdown",
   "metadata": {},
   "source": [
    "Loading the Dataset"
   ]
  },
  {
   "cell_type": "code",
   "execution_count": 2,
   "metadata": {},
   "outputs": [],
   "source": [
    "df = pd.read_csv(r\"C:\\Users\\Niti\\NEXT HIKES\\PROJECT 8\\all_upwork_jobs_next.csv\")"
   ]
  },
  {
   "cell_type": "markdown",
   "metadata": {},
   "source": [
    "Task 4: Compare average hourly rates across different countries\n",
    "\n",
    "●\tObjective: To compare and analyze the average hourly rates offered across different geographical locations.\n",
    "\n",
    "●\tDeliverables: An interactive map or chart showing hourly rates by country.\n"
   ]
  },
  {
   "cell_type": "code",
   "execution_count": 3,
   "metadata": {},
   "outputs": [
    {
     "data": {
      "application/vnd.plotly.v1+json": {
       "config": {
        "plotlyServerURL": "https://plot.ly"
       },
       "data": [
        {
         "coloraxis": "coloraxis",
         "geo": "geo",
         "hovertemplate": "<b>%{hovertext}</b><br><br>country=%{location}<br>avg_hourly_rate=%{z}<extra></extra>",
         "hovertext": [
          "Albania",
          "Algeria",
          "American Samoa",
          "Andorra",
          "Angola",
          "Anguilla",
          "Antigua and Barbuda",
          "Argentina",
          "Armenia",
          "Aruba",
          "Australia",
          "Austria",
          "Azerbaijan",
          "Bahamas",
          "Bahrain",
          "Bangladesh",
          "Barbados",
          "Belgium",
          "Belize",
          "Benin",
          "Bermuda",
          "Bhutan",
          "Bolivia",
          "Bosnia and Herzegovina",
          "Botswana",
          "Brazil",
          "British Virgin Islands",
          "Brunei Darussalam",
          "Bulgaria",
          "Burkina Faso",
          "Burundi",
          "Cambodia",
          "Cameroon",
          "Canada",
          "Cayman Islands",
          "Central African Republic",
          "Chile",
          "China",
          "Cocos (Keeling) Islands",
          "Colombia",
          "Comoros",
          "Congo",
          "Congo, the Democratic Republic of the",
          "Cook Islands",
          "Costa Rica",
          "Cote d&#039;Ivoire",
          "Croatia",
          "Curacao",
          "Cyprus",
          "Czech Republic",
          "Denmark",
          "Djibouti",
          "Dominica",
          "Dominican Republic",
          "Ecuador",
          "Egypt",
          "El Salvador",
          "Eritrea",
          "Estonia",
          "Ethiopia",
          "Fiji",
          "Finland",
          "France",
          "French Guiana",
          "French Polynesia",
          "Gabon",
          "Georgia",
          "Germany",
          "Ghana",
          "Gibraltar",
          "Greece",
          "Grenada",
          "Guadeloupe",
          "Guam",
          "Guatemala",
          "Guernsey",
          "Guinea",
          "Guyana",
          "Haiti",
          "Holy See",
          "Honduras",
          "Hong Kong",
          "Hungary",
          "Iceland",
          "India",
          "Indonesia",
          "Ireland",
          "Isle of Man",
          "Israel",
          "Italy",
          "Jamaica",
          "Japan",
          "Jersey",
          "Jordan",
          "Kazakhstan",
          "Kenya",
          "Kiribati",
          "Kuwait",
          "Kyrgyzstan",
          "Laos",
          "Latvia",
          "Lebanon",
          "Liechtenstein",
          "Lithuania",
          "Luxembourg",
          "Macao",
          "Macedonia",
          "Madagascar",
          "Malawi",
          "Malaysia",
          "Maldives",
          "Mali",
          "Malta",
          "Martinique",
          "Mauritania",
          "Mauritius",
          "Mexico",
          "Micronesia, Federated States of",
          "Moldova",
          "Monaco",
          "Mongolia",
          "Montenegro",
          "Morocco",
          "Mozambique",
          "Myanmar",
          "Namibia",
          "Nepal",
          "Netherlands",
          "Netherlands Antilles",
          "New Caledonia",
          "New Zealand",
          "Nicaragua",
          "Niger",
          "Nigeria",
          "Northern Mariana Islands",
          "Norway",
          "Oman",
          "Pakistan",
          "Palau",
          "Palestinian Territories",
          "Panama",
          "Papua New Guinea",
          "Paraguay",
          "Peru",
          "Philippines",
          "Poland",
          "Portugal",
          "Puerto Rico",
          "Qatar",
          "Reunion",
          "Romania",
          "Russia",
          "Rwanda",
          "Saint Kitts and Nevis",
          "Saint Lucia",
          "Saint Vincent and the Grenadines",
          "Samoa",
          "San Marino",
          "Saudi Arabia",
          "Senegal",
          "Serbia",
          "Seychelles",
          "Sierra Leone",
          "Singapore",
          "Sint Maarten (Dutch part)",
          "Slovakia",
          "Slovenia",
          "Somalia",
          "South Africa",
          "South Korea",
          "Spain",
          "Sri Lanka",
          "Swaziland",
          "Sweden",
          "Switzerland",
          "Taiwan",
          "Tajikistan",
          "Tanzania",
          "Thailand",
          "Timor-Leste",
          "Togo",
          "Trinidad and Tobago",
          "Tunisia",
          "Turkey",
          "Turkmenistan",
          "Turks and Caicos Islands",
          "Uganda",
          "Ukraine",
          "United Arab Emirates",
          "United Kingdom",
          "United States",
          "United States Minor Outlying Islands",
          "United States Virgin Islands",
          "Unknown",
          "Uruguay",
          "Uzbekistan",
          "Vanuatu",
          "Venezuela",
          "Vietnam",
          "Yemen",
          "Zambia",
          "Zimbabwe"
         ],
         "locationmode": "country names",
         "locations": [
          "Albania",
          "Algeria",
          "American Samoa",
          "Andorra",
          "Angola",
          "Anguilla",
          "Antigua and Barbuda",
          "Argentina",
          "Armenia",
          "Aruba",
          "Australia",
          "Austria",
          "Azerbaijan",
          "Bahamas",
          "Bahrain",
          "Bangladesh",
          "Barbados",
          "Belgium",
          "Belize",
          "Benin",
          "Bermuda",
          "Bhutan",
          "Bolivia",
          "Bosnia and Herzegovina",
          "Botswana",
          "Brazil",
          "British Virgin Islands",
          "Brunei Darussalam",
          "Bulgaria",
          "Burkina Faso",
          "Burundi",
          "Cambodia",
          "Cameroon",
          "Canada",
          "Cayman Islands",
          "Central African Republic",
          "Chile",
          "China",
          "Cocos (Keeling) Islands",
          "Colombia",
          "Comoros",
          "Congo",
          "Congo, the Democratic Republic of the",
          "Cook Islands",
          "Costa Rica",
          "Cote d&#039;Ivoire",
          "Croatia",
          "Curacao",
          "Cyprus",
          "Czech Republic",
          "Denmark",
          "Djibouti",
          "Dominica",
          "Dominican Republic",
          "Ecuador",
          "Egypt",
          "El Salvador",
          "Eritrea",
          "Estonia",
          "Ethiopia",
          "Fiji",
          "Finland",
          "France",
          "French Guiana",
          "French Polynesia",
          "Gabon",
          "Georgia",
          "Germany",
          "Ghana",
          "Gibraltar",
          "Greece",
          "Grenada",
          "Guadeloupe",
          "Guam",
          "Guatemala",
          "Guernsey",
          "Guinea",
          "Guyana",
          "Haiti",
          "Holy See",
          "Honduras",
          "Hong Kong",
          "Hungary",
          "Iceland",
          "India",
          "Indonesia",
          "Ireland",
          "Isle of Man",
          "Israel",
          "Italy",
          "Jamaica",
          "Japan",
          "Jersey",
          "Jordan",
          "Kazakhstan",
          "Kenya",
          "Kiribati",
          "Kuwait",
          "Kyrgyzstan",
          "Laos",
          "Latvia",
          "Lebanon",
          "Liechtenstein",
          "Lithuania",
          "Luxembourg",
          "Macao",
          "Macedonia",
          "Madagascar",
          "Malawi",
          "Malaysia",
          "Maldives",
          "Mali",
          "Malta",
          "Martinique",
          "Mauritania",
          "Mauritius",
          "Mexico",
          "Micronesia, Federated States of",
          "Moldova",
          "Monaco",
          "Mongolia",
          "Montenegro",
          "Morocco",
          "Mozambique",
          "Myanmar",
          "Namibia",
          "Nepal",
          "Netherlands",
          "Netherlands Antilles",
          "New Caledonia",
          "New Zealand",
          "Nicaragua",
          "Niger",
          "Nigeria",
          "Northern Mariana Islands",
          "Norway",
          "Oman",
          "Pakistan",
          "Palau",
          "Palestinian Territories",
          "Panama",
          "Papua New Guinea",
          "Paraguay",
          "Peru",
          "Philippines",
          "Poland",
          "Portugal",
          "Puerto Rico",
          "Qatar",
          "Reunion",
          "Romania",
          "Russia",
          "Rwanda",
          "Saint Kitts and Nevis",
          "Saint Lucia",
          "Saint Vincent and the Grenadines",
          "Samoa",
          "San Marino",
          "Saudi Arabia",
          "Senegal",
          "Serbia",
          "Seychelles",
          "Sierra Leone",
          "Singapore",
          "Sint Maarten (Dutch part)",
          "Slovakia",
          "Slovenia",
          "Somalia",
          "South Africa",
          "South Korea",
          "Spain",
          "Sri Lanka",
          "Swaziland",
          "Sweden",
          "Switzerland",
          "Taiwan",
          "Tajikistan",
          "Tanzania",
          "Thailand",
          "Timor-Leste",
          "Togo",
          "Trinidad and Tobago",
          "Tunisia",
          "Turkey",
          "Turkmenistan",
          "Turks and Caicos Islands",
          "Uganda",
          "Ukraine",
          "United Arab Emirates",
          "United Kingdom",
          "United States",
          "United States Minor Outlying Islands",
          "United States Virgin Islands",
          "Unknown",
          "Uruguay",
          "Uzbekistan",
          "Vanuatu",
          "Venezuela",
          "Vietnam",
          "Yemen",
          "Zambia",
          "Zimbabwe"
         ],
         "name": "",
         "type": "choropleth",
         "z": [
          28.244398224196914,
          25.51189608646396,
          21.8850422997801,
          31.572323525887274,
          30.16089678300348,
          29.655126899340296,
          23.13102537986806,
          29.51020283965713,
          27.124301169516908,
          16.593375633113432,
          25.722333069164094,
          27.1059008350437,
          33.3246051170436,
          20.427114087222407,
          28.518511312806666,
          31.014476418276686,
          31.718375633113435,
          29.68861784941734,
          24.95505398567747,
          23.718375633113432,
          23.968375633113435,
          26.99510166202649,
          20.92257617015152,
          29.12047124763842,
          28.859187816556716,
          27.82004330733677,
          36.97080827672009,
          16.696538069802088,
          27.620528942649525,
          29.655126899340296,
          20,
          26.235409098676666,
          25.662050759736122,
          27.62990122680769,
          32.73920896644676,
          5,
          29.616675130739587,
          30.258578652743807,
          25,
          30.841727070146415,
          29.655126899340296,
          27.5,
          24.93102537986806,
          29.655126899340296,
          25.966111842269445,
          26.698914484260158,
          22.815214762059924,
          29.86617319830667,
          30.77779850275357,
          29.138626768182334,
          29.75120396503893,
          19.827563449670148,
          25,
          21.763817228693696,
          30.361055119975976,
          29.871767367431715,
          21.66421749767991,
          100,
          26.701859225947615,
          29.919911043247087,
          12.5,
          25.07592100059034,
          27.11064441324653,
          34,
          18.199506531640008,
          20,
          27.329203374839665,
          28.186554528578935,
          18.479670049858637,
          32.124654430566245,
          28.455485301407737,
          29.23102537986806,
          18.952563449670148,
          28.224101519472235,
          31.158428238220704,
          19.214285714285715,
          26,
          27.75,
          29.26205075973612,
          17.5,
          23.283435531815286,
          27.27327934797476,
          30.82086153314381,
          24.08571911931617,
          25.865080334445462,
          29.736943611914274,
          27.787643664778074,
          31.06892803475083,
          28.07775480286445,
          27.950090328025148,
          27.122636370470328,
          23.624470711086644,
          30.407999451187052,
          32.54369670525498,
          30.83840610796234,
          31.77003288144781,
          20,
          28.579053352158667,
          26.265063449670148,
          156.62132624651986,
          31.73935307994191,
          25.916225117116493,
          39.59358955704862,
          29.173721457042262,
          27.366731479470932,
          19.202563449670148,
          26.860626880070033,
          27.496852790729175,
          64.03878172483508,
          42.93339432346065,
          25.99134517450522,
          25.5,
          26.070937161746773,
          29.655126899340296,
          24.46205075973612,
          24.671623755597132,
          26.239030553709487,
          37.5,
          27.809976316718725,
          27.689636208058456,
          26.15,
          26.672616947554936,
          28.16066907263834,
          23.051708966446768,
          31.767553985677473,
          19.51551268993403,
          27.78883357678368,
          25.96685381466637,
          61.25,
          29.655126899340296,
          25.612534794245672,
          23.2068758633365,
          16.5,
          27.53487919373367,
          22.362050759736118,
          28.832981341536172,
          29.824731733926697,
          26.478640173467657,
          29.655126899340292,
          28.20892024217668,
          24.81639125369139,
          21.333333333333332,
          28.295628184793028,
          24.54249382386672,
          29.490405648114415,
          28.683018709485467,
          26.70300288099603,
          29.045790470619256,
          26.85057734473202,
          20.615750542668657,
          26.769155464261605,
          21.5,
          27.712106622555332,
          20.25,
          20.233658983690468,
          25.802929656765883,
          29.655126899340296,
          27.327563449670148,
          29.64908910764552,
          29.162557140341693,
          25.17096498489957,
          22.864776915581146,
          27.86634517450522,
          26.749429793835233,
          19.913781724835076,
          27.511884901227976,
          23.866515166103618,
          22.456890862417538,
          27.784642902654134,
          17.76548851005645,
          26.75747507617711,
          23.34267727088238,
          25.577563449670148,
          28.847541179132058,
          27.522309404677962,
          19.974453328224268,
          29.655126899340296,
          28.891145302856994,
          38.495716591191034,
          25,
          19.5,
          26.55342103516013,
          26.436404721674894,
          28.05354335834817,
          29.655126899340292,
          46.625,
          28.61788579931608,
          30.139481569686374,
          27.978009720488014,
          29.462534232765776,
          31.75709644033745,
          15,
          32.26824415310003,
          30.202651749370812,
          29.106950256090823,
          23.38185372140915,
          6.5,
          21.755340796922965,
          30.16986387178147,
          26.077563449670148,
          37.69343094221862,
          24.487350253245374
         ]
        }
       ],
       "layout": {
        "coloraxis": {
         "colorbar": {
          "title": {
           "text": "avg_hourly_rate"
          }
         },
         "colorscale": [
          [
           0,
           "rgb(165,0,38)"
          ],
          [
           0.2,
           "rgb(215,48,39)"
          ],
          [
           0.4,
           "rgb(244,109,67)"
          ],
          [
           0.6,
           "rgb(253,174,97)"
          ],
          [
           0.8,
           "rgb(254,224,144)"
          ],
          [
           1,
           "rgb(255,255,191)"
          ]
         ]
        },
        "geo": {
         "center": {},
         "domain": {
          "x": [
           0,
           1
          ],
          "y": [
           0,
           1
          ]
         },
         "projection": {
          "type": "equirectangular"
         },
         "showcoastlines": false,
         "showframe": false
        },
        "height": 800,
        "legend": {
         "tracegroupgap": 0
        },
        "template": {
         "data": {
          "bar": [
           {
            "error_x": {
             "color": "#2a3f5f"
            },
            "error_y": {
             "color": "#2a3f5f"
            },
            "marker": {
             "line": {
              "color": "#E5ECF6",
              "width": 0.5
             },
             "pattern": {
              "fillmode": "overlay",
              "size": 10,
              "solidity": 0.2
             }
            },
            "type": "bar"
           }
          ],
          "barpolar": [
           {
            "marker": {
             "line": {
              "color": "#E5ECF6",
              "width": 0.5
             },
             "pattern": {
              "fillmode": "overlay",
              "size": 10,
              "solidity": 0.2
             }
            },
            "type": "barpolar"
           }
          ],
          "carpet": [
           {
            "aaxis": {
             "endlinecolor": "#2a3f5f",
             "gridcolor": "white",
             "linecolor": "white",
             "minorgridcolor": "white",
             "startlinecolor": "#2a3f5f"
            },
            "baxis": {
             "endlinecolor": "#2a3f5f",
             "gridcolor": "white",
             "linecolor": "white",
             "minorgridcolor": "white",
             "startlinecolor": "#2a3f5f"
            },
            "type": "carpet"
           }
          ],
          "choropleth": [
           {
            "colorbar": {
             "outlinewidth": 0,
             "ticks": ""
            },
            "type": "choropleth"
           }
          ],
          "contour": [
           {
            "colorbar": {
             "outlinewidth": 0,
             "ticks": ""
            },
            "colorscale": [
             [
              0,
              "#0d0887"
             ],
             [
              0.1111111111111111,
              "#46039f"
             ],
             [
              0.2222222222222222,
              "#7201a8"
             ],
             [
              0.3333333333333333,
              "#9c179e"
             ],
             [
              0.4444444444444444,
              "#bd3786"
             ],
             [
              0.5555555555555556,
              "#d8576b"
             ],
             [
              0.6666666666666666,
              "#ed7953"
             ],
             [
              0.7777777777777778,
              "#fb9f3a"
             ],
             [
              0.8888888888888888,
              "#fdca26"
             ],
             [
              1,
              "#f0f921"
             ]
            ],
            "type": "contour"
           }
          ],
          "contourcarpet": [
           {
            "colorbar": {
             "outlinewidth": 0,
             "ticks": ""
            },
            "type": "contourcarpet"
           }
          ],
          "heatmap": [
           {
            "colorbar": {
             "outlinewidth": 0,
             "ticks": ""
            },
            "colorscale": [
             [
              0,
              "#0d0887"
             ],
             [
              0.1111111111111111,
              "#46039f"
             ],
             [
              0.2222222222222222,
              "#7201a8"
             ],
             [
              0.3333333333333333,
              "#9c179e"
             ],
             [
              0.4444444444444444,
              "#bd3786"
             ],
             [
              0.5555555555555556,
              "#d8576b"
             ],
             [
              0.6666666666666666,
              "#ed7953"
             ],
             [
              0.7777777777777778,
              "#fb9f3a"
             ],
             [
              0.8888888888888888,
              "#fdca26"
             ],
             [
              1,
              "#f0f921"
             ]
            ],
            "type": "heatmap"
           }
          ],
          "heatmapgl": [
           {
            "colorbar": {
             "outlinewidth": 0,
             "ticks": ""
            },
            "colorscale": [
             [
              0,
              "#0d0887"
             ],
             [
              0.1111111111111111,
              "#46039f"
             ],
             [
              0.2222222222222222,
              "#7201a8"
             ],
             [
              0.3333333333333333,
              "#9c179e"
             ],
             [
              0.4444444444444444,
              "#bd3786"
             ],
             [
              0.5555555555555556,
              "#d8576b"
             ],
             [
              0.6666666666666666,
              "#ed7953"
             ],
             [
              0.7777777777777778,
              "#fb9f3a"
             ],
             [
              0.8888888888888888,
              "#fdca26"
             ],
             [
              1,
              "#f0f921"
             ]
            ],
            "type": "heatmapgl"
           }
          ],
          "histogram": [
           {
            "marker": {
             "pattern": {
              "fillmode": "overlay",
              "size": 10,
              "solidity": 0.2
             }
            },
            "type": "histogram"
           }
          ],
          "histogram2d": [
           {
            "colorbar": {
             "outlinewidth": 0,
             "ticks": ""
            },
            "colorscale": [
             [
              0,
              "#0d0887"
             ],
             [
              0.1111111111111111,
              "#46039f"
             ],
             [
              0.2222222222222222,
              "#7201a8"
             ],
             [
              0.3333333333333333,
              "#9c179e"
             ],
             [
              0.4444444444444444,
              "#bd3786"
             ],
             [
              0.5555555555555556,
              "#d8576b"
             ],
             [
              0.6666666666666666,
              "#ed7953"
             ],
             [
              0.7777777777777778,
              "#fb9f3a"
             ],
             [
              0.8888888888888888,
              "#fdca26"
             ],
             [
              1,
              "#f0f921"
             ]
            ],
            "type": "histogram2d"
           }
          ],
          "histogram2dcontour": [
           {
            "colorbar": {
             "outlinewidth": 0,
             "ticks": ""
            },
            "colorscale": [
             [
              0,
              "#0d0887"
             ],
             [
              0.1111111111111111,
              "#46039f"
             ],
             [
              0.2222222222222222,
              "#7201a8"
             ],
             [
              0.3333333333333333,
              "#9c179e"
             ],
             [
              0.4444444444444444,
              "#bd3786"
             ],
             [
              0.5555555555555556,
              "#d8576b"
             ],
             [
              0.6666666666666666,
              "#ed7953"
             ],
             [
              0.7777777777777778,
              "#fb9f3a"
             ],
             [
              0.8888888888888888,
              "#fdca26"
             ],
             [
              1,
              "#f0f921"
             ]
            ],
            "type": "histogram2dcontour"
           }
          ],
          "mesh3d": [
           {
            "colorbar": {
             "outlinewidth": 0,
             "ticks": ""
            },
            "type": "mesh3d"
           }
          ],
          "parcoords": [
           {
            "line": {
             "colorbar": {
              "outlinewidth": 0,
              "ticks": ""
             }
            },
            "type": "parcoords"
           }
          ],
          "pie": [
           {
            "automargin": true,
            "type": "pie"
           }
          ],
          "scatter": [
           {
            "fillpattern": {
             "fillmode": "overlay",
             "size": 10,
             "solidity": 0.2
            },
            "type": "scatter"
           }
          ],
          "scatter3d": [
           {
            "line": {
             "colorbar": {
              "outlinewidth": 0,
              "ticks": ""
             }
            },
            "marker": {
             "colorbar": {
              "outlinewidth": 0,
              "ticks": ""
             }
            },
            "type": "scatter3d"
           }
          ],
          "scattercarpet": [
           {
            "marker": {
             "colorbar": {
              "outlinewidth": 0,
              "ticks": ""
             }
            },
            "type": "scattercarpet"
           }
          ],
          "scattergeo": [
           {
            "marker": {
             "colorbar": {
              "outlinewidth": 0,
              "ticks": ""
             }
            },
            "type": "scattergeo"
           }
          ],
          "scattergl": [
           {
            "marker": {
             "colorbar": {
              "outlinewidth": 0,
              "ticks": ""
             }
            },
            "type": "scattergl"
           }
          ],
          "scattermapbox": [
           {
            "marker": {
             "colorbar": {
              "outlinewidth": 0,
              "ticks": ""
             }
            },
            "type": "scattermapbox"
           }
          ],
          "scatterpolar": [
           {
            "marker": {
             "colorbar": {
              "outlinewidth": 0,
              "ticks": ""
             }
            },
            "type": "scatterpolar"
           }
          ],
          "scatterpolargl": [
           {
            "marker": {
             "colorbar": {
              "outlinewidth": 0,
              "ticks": ""
             }
            },
            "type": "scatterpolargl"
           }
          ],
          "scatterternary": [
           {
            "marker": {
             "colorbar": {
              "outlinewidth": 0,
              "ticks": ""
             }
            },
            "type": "scatterternary"
           }
          ],
          "surface": [
           {
            "colorbar": {
             "outlinewidth": 0,
             "ticks": ""
            },
            "colorscale": [
             [
              0,
              "#0d0887"
             ],
             [
              0.1111111111111111,
              "#46039f"
             ],
             [
              0.2222222222222222,
              "#7201a8"
             ],
             [
              0.3333333333333333,
              "#9c179e"
             ],
             [
              0.4444444444444444,
              "#bd3786"
             ],
             [
              0.5555555555555556,
              "#d8576b"
             ],
             [
              0.6666666666666666,
              "#ed7953"
             ],
             [
              0.7777777777777778,
              "#fb9f3a"
             ],
             [
              0.8888888888888888,
              "#fdca26"
             ],
             [
              1,
              "#f0f921"
             ]
            ],
            "type": "surface"
           }
          ],
          "table": [
           {
            "cells": {
             "fill": {
              "color": "#EBF0F8"
             },
             "line": {
              "color": "white"
             }
            },
            "header": {
             "fill": {
              "color": "#C8D4E3"
             },
             "line": {
              "color": "white"
             }
            },
            "type": "table"
           }
          ]
         },
         "layout": {
          "annotationdefaults": {
           "arrowcolor": "#2a3f5f",
           "arrowhead": 0,
           "arrowwidth": 1
          },
          "autotypenumbers": "strict",
          "coloraxis": {
           "colorbar": {
            "outlinewidth": 0,
            "ticks": ""
           }
          },
          "colorscale": {
           "diverging": [
            [
             0,
             "#8e0152"
            ],
            [
             0.1,
             "#c51b7d"
            ],
            [
             0.2,
             "#de77ae"
            ],
            [
             0.3,
             "#f1b6da"
            ],
            [
             0.4,
             "#fde0ef"
            ],
            [
             0.5,
             "#f7f7f7"
            ],
            [
             0.6,
             "#e6f5d0"
            ],
            [
             0.7,
             "#b8e186"
            ],
            [
             0.8,
             "#7fbc41"
            ],
            [
             0.9,
             "#4d9221"
            ],
            [
             1,
             "#276419"
            ]
           ],
           "sequential": [
            [
             0,
             "#0d0887"
            ],
            [
             0.1111111111111111,
             "#46039f"
            ],
            [
             0.2222222222222222,
             "#7201a8"
            ],
            [
             0.3333333333333333,
             "#9c179e"
            ],
            [
             0.4444444444444444,
             "#bd3786"
            ],
            [
             0.5555555555555556,
             "#d8576b"
            ],
            [
             0.6666666666666666,
             "#ed7953"
            ],
            [
             0.7777777777777778,
             "#fb9f3a"
            ],
            [
             0.8888888888888888,
             "#fdca26"
            ],
            [
             1,
             "#f0f921"
            ]
           ],
           "sequentialminus": [
            [
             0,
             "#0d0887"
            ],
            [
             0.1111111111111111,
             "#46039f"
            ],
            [
             0.2222222222222222,
             "#7201a8"
            ],
            [
             0.3333333333333333,
             "#9c179e"
            ],
            [
             0.4444444444444444,
             "#bd3786"
            ],
            [
             0.5555555555555556,
             "#d8576b"
            ],
            [
             0.6666666666666666,
             "#ed7953"
            ],
            [
             0.7777777777777778,
             "#fb9f3a"
            ],
            [
             0.8888888888888888,
             "#fdca26"
            ],
            [
             1,
             "#f0f921"
            ]
           ]
          },
          "colorway": [
           "#636efa",
           "#EF553B",
           "#00cc96",
           "#ab63fa",
           "#FFA15A",
           "#19d3f3",
           "#FF6692",
           "#B6E880",
           "#FF97FF",
           "#FECB52"
          ],
          "font": {
           "color": "#2a3f5f"
          },
          "geo": {
           "bgcolor": "white",
           "lakecolor": "white",
           "landcolor": "#E5ECF6",
           "showlakes": true,
           "showland": true,
           "subunitcolor": "white"
          },
          "hoverlabel": {
           "align": "left"
          },
          "hovermode": "closest",
          "mapbox": {
           "style": "light"
          },
          "paper_bgcolor": "white",
          "plot_bgcolor": "#E5ECF6",
          "polar": {
           "angularaxis": {
            "gridcolor": "white",
            "linecolor": "white",
            "ticks": ""
           },
           "bgcolor": "#E5ECF6",
           "radialaxis": {
            "gridcolor": "white",
            "linecolor": "white",
            "ticks": ""
           }
          },
          "scene": {
           "xaxis": {
            "backgroundcolor": "#E5ECF6",
            "gridcolor": "white",
            "gridwidth": 2,
            "linecolor": "white",
            "showbackground": true,
            "ticks": "",
            "zerolinecolor": "white"
           },
           "yaxis": {
            "backgroundcolor": "#E5ECF6",
            "gridcolor": "white",
            "gridwidth": 2,
            "linecolor": "white",
            "showbackground": true,
            "ticks": "",
            "zerolinecolor": "white"
           },
           "zaxis": {
            "backgroundcolor": "#E5ECF6",
            "gridcolor": "white",
            "gridwidth": 2,
            "linecolor": "white",
            "showbackground": true,
            "ticks": "",
            "zerolinecolor": "white"
           }
          },
          "shapedefaults": {
           "line": {
            "color": "#2a3f5f"
           }
          },
          "ternary": {
           "aaxis": {
            "gridcolor": "white",
            "linecolor": "white",
            "ticks": ""
           },
           "baxis": {
            "gridcolor": "white",
            "linecolor": "white",
            "ticks": ""
           },
           "bgcolor": "#E5ECF6",
           "caxis": {
            "gridcolor": "white",
            "linecolor": "white",
            "ticks": ""
           }
          },
          "title": {
           "x": 0.05
          },
          "xaxis": {
           "automargin": true,
           "gridcolor": "white",
           "linecolor": "white",
           "ticks": "",
           "title": {
            "standoff": 15
           },
           "zerolinecolor": "white",
           "zerolinewidth": 2
          },
          "yaxis": {
           "automargin": true,
           "gridcolor": "white",
           "linecolor": "white",
           "ticks": "",
           "title": {
            "standoff": 15
           },
           "zerolinecolor": "white",
           "zerolinewidth": 2
          }
         }
        },
        "title": {
         "text": "Average Hourly Rates by Country",
         "x": 0.5
        },
        "width": 1200
       }
      }
     },
     "metadata": {},
     "output_type": "display_data"
    }
   ],
   "source": [
    "import pandas as pd\n",
    "import plotly.express as px\n",
    "\n",
    "# Filter out non-hourly jobs\n",
    "hourly_jobs = df[df['is_hourly'] == True].copy()\n",
    "\n",
    "# Calculate the average hourly rate\n",
    "hourly_jobs.loc[:, 'average_hourly_rate'] = hourly_jobs[['hourly_low', 'hourly_high']].mean(axis=1)\n",
    "\n",
    "# Drop rows with missing country or average hourly rate\n",
    "hourly_jobs = hourly_jobs.dropna(subset=['country', 'average_hourly_rate'])\n",
    "\n",
    "# Calculate average hourly rate by country\n",
    "country_hourly_rates = hourly_jobs.groupby('country')['average_hourly_rate'].mean().reset_index()\n",
    "\n",
    "# Rename columns for clarity\n",
    "country_hourly_rates.columns = ['country', 'avg_hourly_rate']\n",
    "\n",
    "# Define a custom color scale\n",
    "custom_color_scale = [\n",
    "    (0.0, \"rgb(165,0,38)\"),   # Dark red\n",
    "    (0.2, \"rgb(215,48,39)\"),  # Red\n",
    "    (0.4, \"rgb(244,109,67)\"), # Orange\n",
    "    (0.6, \"rgb(253,174,97)\"), # Light orange\n",
    "    (0.8, \"rgb(254,224,144)\"),# Yellow\n",
    "    (1.0, \"rgb(255,255,191)\") # Light yellow\n",
    "]\n",
    "\n",
    "# Create a choropleth map\n",
    "fig = px.choropleth(\n",
    "    country_hourly_rates,\n",
    "    locations=\"country\",\n",
    "    locationmode='country names',\n",
    "    color=\"avg_hourly_rate\",\n",
    "    hover_name=\"country\",\n",
    "    color_continuous_scale=custom_color_scale,\n",
    "    title=\"Average Hourly Rates by Country\"\n",
    ")\n",
    "\n",
    "# Update layout for better visuals and increased size\n",
    "fig.update_layout(\n",
    "    geo=dict(showframe=False, showcoastlines=False, projection_type='equirectangular'),\n",
    "    title=dict(x=0.5),\n",
    "    width=1200,   # Set the width of the plot\n",
    "    height=800    # Set the height of the plot\n",
    ")\n",
    "\n",
    "fig.show()\n"
   ]
  },
  {
   "cell_type": "markdown",
   "metadata": {},
   "source": [
    "Task 5: Create a job recommendation engine based on current job postings\n",
    "\n",
    "●\tObjective: To develop a personalized job recommendation engine.\n",
    "\n",
    "●\tDeliverables: A working prototype of the recommendation engine, API documentation, and a user interface for interaction.\n"
   ]
  },
  {
   "cell_type": "markdown",
   "metadata": {},
   "source": [
    "Data Preprocessing"
   ]
  },
  {
   "cell_type": "code",
   "execution_count": 4,
   "metadata": {},
   "outputs": [
    {
     "data": {
      "text/html": [
       "<div>\n",
       "<style scoped>\n",
       "    .dataframe tbody tr th:only-of-type {\n",
       "        vertical-align: middle;\n",
       "    }\n",
       "\n",
       "    .dataframe tbody tr th {\n",
       "        vertical-align: top;\n",
       "    }\n",
       "\n",
       "    .dataframe thead th {\n",
       "        text-align: right;\n",
       "    }\n",
       "</style>\n",
       "<table border=\"1\" class=\"dataframe\">\n",
       "  <thead>\n",
       "    <tr style=\"text-align: right;\">\n",
       "      <th></th>\n",
       "      <th>Unnamed: 0</th>\n",
       "      <th>title</th>\n",
       "      <th>link</th>\n",
       "      <th>published_date</th>\n",
       "      <th>is_hourly</th>\n",
       "      <th>hourly_low</th>\n",
       "      <th>hourly_high</th>\n",
       "      <th>budget</th>\n",
       "      <th>country</th>\n",
       "      <th>avg_salary</th>\n",
       "      <th>category</th>\n",
       "      <th>month</th>\n",
       "      <th>text</th>\n",
       "    </tr>\n",
       "  </thead>\n",
       "  <tbody>\n",
       "    <tr>\n",
       "      <th>0</th>\n",
       "      <td>0</td>\n",
       "      <td>Experienced Media Buyer For Solar Pannel and R...</td>\n",
       "      <td>https://www.upwork.com/jobs/Experienced-Media-...</td>\n",
       "      <td>2024-02-17 09:09:54+00:00</td>\n",
       "      <td>False</td>\n",
       "      <td>17.339644</td>\n",
       "      <td>41.97061</td>\n",
       "      <td>500.0</td>\n",
       "      <td>Unknown</td>\n",
       "      <td>29.655127</td>\n",
       "      <td>Other</td>\n",
       "      <td>2024-02</td>\n",
       "      <td>Experienced Media Buyer For Solar Pannel and R...</td>\n",
       "    </tr>\n",
       "    <tr>\n",
       "      <th>1</th>\n",
       "      <td>1</td>\n",
       "      <td>Full Stack Developer</td>\n",
       "      <td>https://www.upwork.com/jobs/Full-Stack-Develop...</td>\n",
       "      <td>2024-02-17 09:09:17+00:00</td>\n",
       "      <td>False</td>\n",
       "      <td>17.339644</td>\n",
       "      <td>41.97061</td>\n",
       "      <td>1100.0</td>\n",
       "      <td>United States</td>\n",
       "      <td>29.655127</td>\n",
       "      <td>Full Stack Developer</td>\n",
       "      <td>2024-02</td>\n",
       "      <td>Full Stack Developer United States</td>\n",
       "    </tr>\n",
       "  </tbody>\n",
       "</table>\n",
       "</div>"
      ],
      "text/plain": [
       "   Unnamed: 0                                              title  \\\n",
       "0           0  Experienced Media Buyer For Solar Pannel and R...   \n",
       "1           1                               Full Stack Developer   \n",
       "\n",
       "                                                link  \\\n",
       "0  https://www.upwork.com/jobs/Experienced-Media-...   \n",
       "1  https://www.upwork.com/jobs/Full-Stack-Develop...   \n",
       "\n",
       "              published_date  is_hourly  hourly_low  hourly_high  budget  \\\n",
       "0  2024-02-17 09:09:54+00:00      False   17.339644     41.97061   500.0   \n",
       "1  2024-02-17 09:09:17+00:00      False   17.339644     41.97061  1100.0   \n",
       "\n",
       "         country  avg_salary              category    month  \\\n",
       "0        Unknown   29.655127                 Other  2024-02   \n",
       "1  United States   29.655127  Full Stack Developer  2024-02   \n",
       "\n",
       "                                                text  \n",
       "0  Experienced Media Buyer For Solar Pannel and R...  \n",
       "1                 Full Stack Developer United States  "
      ]
     },
     "execution_count": 4,
     "metadata": {},
     "output_type": "execute_result"
    }
   ],
   "source": [
    "# Combine title and country into a single column for text processing\n",
    "df['text'] = df['title'] + \" \" + df['country']\n",
    "\n",
    "# Display the first few rows\n",
    "df.head(2)\n"
   ]
  },
  {
   "cell_type": "markdown",
   "metadata": {},
   "source": [
    "Feature Engineering"
   ]
  },
  {
   "cell_type": "code",
   "execution_count": 5,
   "metadata": {},
   "outputs": [
    {
     "data": {
      "text/plain": [
       "(244828, 1000)"
      ]
     },
     "execution_count": 5,
     "metadata": {},
     "output_type": "execute_result"
    }
   ],
   "source": [
    "from sklearn.feature_extraction.text import TfidfVectorizer\n",
    "\n",
    "# Initialize TF-IDF Vectorizer\n",
    "tfidf = TfidfVectorizer(stop_words='english', max_features=1000)\n",
    "\n",
    "# Fit and transform the text data\n",
    "tfidf_matrix = tfidf.fit_transform(df['text'])\n",
    "\n",
    "# Display the shape of the TF-IDF matrix\n",
    "tfidf_matrix.shape\n"
   ]
  },
  {
   "cell_type": "markdown",
   "metadata": {},
   "source": [
    "Compute Similarity"
   ]
  },
  {
   "cell_type": "code",
   "execution_count": 6,
   "metadata": {},
   "outputs": [
    {
     "name": "stdout",
     "output_type": "stream",
     "text": [
      "Requirement already satisfied: faiss-cpu in c:\\users\\niti\\anaconda3\\lib\\site-packages (1.8.0)Note: you may need to restart the kernel to use updated packages.\n",
      "\n",
      "Requirement already satisfied: numpy in c:\\users\\niti\\anaconda3\\lib\\site-packages (from faiss-cpu) (1.26.4)\n"
     ]
    }
   ],
   "source": [
    "pip install faiss-cpu\n"
   ]
  },
  {
   "cell_type": "code",
   "execution_count": 7,
   "metadata": {},
   "outputs": [
    {
     "name": "stdout",
     "output_type": "stream",
     "text": [
      "                                               title        country  \\\n",
      "1                               Full Stack Developer  United States   \n",
      "3066                            Full Stack Developer  United States   \n",
      "4551                            Full-stack developer  United States   \n",
      "8638                            Full Stack Developer  United States   \n",
      "8651                            Full Stack Developer  United States   \n",
      "10682                           Full Stack Developer  United States   \n",
      "11773  Full Stack Developer (Individual Contributor)  United States   \n",
      "12459                           Full Stack Developer  United States   \n",
      "14245                           Full-stack Developer  United States   \n",
      "14246                           Full-stack Developer  United States   \n",
      "\n",
      "                                                    link  \n",
      "1      https://www.upwork.com/jobs/Full-Stack-Develop...  \n",
      "3066   https://www.upwork.com/jobs/Full-Stack-Develop...  \n",
      "4551   https://www.upwork.com/jobs/Full-stack-develop...  \n",
      "8638   https://www.upwork.com/jobs/Full-Stack-Develop...  \n",
      "8651   https://www.upwork.com/jobs/Full-Stack-Develop...  \n",
      "10682  https://www.upwork.com/jobs/Full-Stack-Develop...  \n",
      "11773  https://www.upwork.com/jobs/Full-Stack-Develop...  \n",
      "12459  https://www.upwork.com/jobs/Full-Stack-Develop...  \n",
      "14245  https://www.upwork.com/jobs/Full-stack-Develop...  \n",
      "14246  https://www.upwork.com/jobs/Full-stack-Develop...  \n"
     ]
    }
   ],
   "source": [
    "import pandas as pd\n",
    "from sklearn.feature_extraction.text import TfidfVectorizer\n",
    "import faiss\n",
    "import numpy as np\n",
    "\n",
    "# Combine title and country into a single column for text processing\n",
    "df['text'] = df['title'] + \" \" + df['country']\n",
    "\n",
    "# Initialize TF-IDF Vectorizer\n",
    "tfidf = TfidfVectorizer(stop_words='english', max_features=1000)\n",
    "\n",
    "# Fit and transform the text data\n",
    "tfidf_matrix = tfidf.fit_transform(df['text']).toarray()\n",
    "\n",
    "# Initialize the FAISS index\n",
    "d = tfidf_matrix.shape[1]  # Dimension of the vectors\n",
    "index = faiss.IndexFlatL2(d)  # L2 distance index\n",
    "\n",
    "# Add vectors to the index\n",
    "index.add(tfidf_matrix)\n",
    "\n",
    "def get_recommendations(job_title, n=10):\n",
    "    # Get the index of the job that matches the job_title\n",
    "    idx = df[df['title'].str.contains(job_title, case=False, na=False)].index[0]\n",
    "\n",
    "    # Get the vector for the job\n",
    "    job_vector = tfidf_matrix[idx].reshape(1, -1)\n",
    "\n",
    "    # Search the index for the most similar vectors\n",
    "    distances, indices = index.search(job_vector, n)\n",
    "\n",
    "    # Return the most similar jobs\n",
    "    return df.iloc[indices[0]][['title', 'country', 'link']]\n",
    "\n",
    "# Test the recommendation function\n",
    "print(get_recommendations('Full Stack Developer'))\n"
   ]
  },
  {
   "cell_type": "markdown",
   "metadata": {},
   "source": [
    "Build Recommendation Function"
   ]
  },
  {
   "cell_type": "markdown",
   "metadata": {},
   "source": [
    "Develop an API"
   ]
  },
  {
   "cell_type": "code",
   "execution_count": 8,
   "metadata": {},
   "outputs": [
    {
     "name": "stdout",
     "output_type": "stream",
     "text": [
      " * Serving Flask app '__main__'\n",
      " * Debug mode: on\n"
     ]
    },
    {
     "name": "stderr",
     "output_type": "stream",
     "text": [
      "WARNING: This is a development server. Do not use it in a production deployment. Use a production WSGI server instead.\n",
      " * Running on http://127.0.0.1:5000\n",
      "Press CTRL+C to quit\n",
      " * Restarting with watchdog (windowsapi)\n"
     ]
    },
    {
     "ename": "SystemExit",
     "evalue": "1",
     "output_type": "error",
     "traceback": [
      "An exception has occurred, use %tb to see the full traceback.\n",
      "\u001b[1;31mSystemExit\u001b[0m\u001b[1;31m:\u001b[0m 1\n"
     ]
    },
    {
     "name": "stderr",
     "output_type": "stream",
     "text": [
      "c:\\Users\\Niti\\anaconda3\\Lib\\site-packages\\IPython\\core\\interactiveshell.py:3513: UserWarning:\n",
      "\n",
      "To exit: use 'exit', 'quit', or Ctrl-D.\n",
      "\n"
     ]
    }
   ],
   "source": [
    "from flask import Flask, request, jsonify\n",
    "\n",
    "app = Flask(__name__)\n",
    "\n",
    "@app.route('/recommend', methods=['POST'])\n",
    "def recommend():\n",
    "    data = request.get_json()\n",
    "    job_title = data['job_title']\n",
    "    recommendations = get_recommendations(job_title)\n",
    "    return recommendations.to_json(orient='records')\n",
    "\n",
    "if __name__ == '__main__':\n",
    "    app.run(debug=True)\n"
   ]
  },
  {
   "cell_type": "markdown",
   "metadata": {},
   "source": [
    "Create a User Interface"
   ]
  },
  {
   "cell_type": "code",
   "execution_count": 9,
   "metadata": {},
   "outputs": [
    {
     "name": "stderr",
     "output_type": "stream",
     "text": [
      "2024-05-22 19:31:51.676 \n",
      "  \u001b[33m\u001b[1mWarning:\u001b[0m to view this Streamlit app on a browser, run it with the following\n",
      "  command:\n",
      "\n",
      "    streamlit run c:\\Users\\Niti\\anaconda3\\Lib\\site-packages\\ipykernel_launcher.py [ARGUMENTS]\n"
     ]
    }
   ],
   "source": [
    "import streamlit as st\n",
    "import requests\n",
    "import pandas as pd\n",
    "\n",
    "st.title('Job Recommendation Engine')\n",
    "\n",
    "job_title = st.text_input('Enter a job title')\n",
    "\n",
    "if st.button('Get Recommendations'):\n",
    "    response = requests.post('http://127.0.0.1:5000/recommend', json={'job_title': job_title})\n",
    "    recommendations = pd.read_json(response.json())\n",
    "    st.write(recommendations)\n"
   ]
  },
  {
   "cell_type": "markdown",
   "metadata": {},
   "source": [
    "Task 6: Track changes in job market dynamics over months\n",
    "\n",
    "●\tObjective: To monitor and track the changes in job market dynamics.\n",
    "\n",
    "●\tDeliverables: A dashboard that updates monthly with new trends in the job market.\n"
   ]
  },
  {
   "cell_type": "code",
   "execution_count": 13,
   "metadata": {},
   "outputs": [
    {
     "name": "stderr",
     "output_type": "stream",
     "text": [
      "C:\\Users\\Niti\\AppData\\Local\\Temp\\ipykernel_1488\\1158905744.py:5: UserWarning:\n",
      "\n",
      "Converting to PeriodArray/Index representation will drop timezone information.\n",
      "\n"
     ]
    }
   ],
   "source": [
    "# Ensure 'published_date' is in datetime format\n",
    "df['published_date'] = pd.to_datetime(df['published_date'])\n",
    "\n",
    "# Extract month and year from 'published_date'\n",
    "df['year_month'] = df['published_date'].dt.to_period('M')\n"
   ]
  },
  {
   "cell_type": "code",
   "execution_count": 14,
   "metadata": {},
   "outputs": [],
   "source": [
    "# Group by 'year_month' to get the count of job postings each month\n",
    "monthly_job_counts = df.groupby('year_month').size().reset_index(name='job_count')\n"
   ]
  },
  {
   "cell_type": "markdown",
   "metadata": {},
   "source": [
    "Convert Period to String"
   ]
  },
  {
   "cell_type": "code",
   "execution_count": 15,
   "metadata": {},
   "outputs": [],
   "source": [
    "# Convert 'year_month' to string format\n",
    "monthly_job_counts['year_month'] = monthly_job_counts['year_month'].astype(str)\n"
   ]
  },
  {
   "cell_type": "markdown",
   "metadata": {},
   "source": [
    "Visualization"
   ]
  },
  {
   "cell_type": "code",
   "execution_count": 16,
   "metadata": {},
   "outputs": [
    {
     "name": "stderr",
     "output_type": "stream",
     "text": [
      "C:\\Users\\Niti\\AppData\\Local\\Temp\\ipykernel_1488\\1186519075.py:7: UserWarning:\n",
      "\n",
      "Converting to PeriodArray/Index representation will drop timezone information.\n",
      "\n"
     ]
    },
    {
     "data": {
      "application/vnd.plotly.v1+json": {
       "config": {
        "plotlyServerURL": "https://plot.ly"
       },
       "data": [
        {
         "hovertemplate": "Month=%{x}<br>Number of Job Postings=%{y}<extra></extra>",
         "legendgroup": "",
         "line": {
          "color": "#000001",
          "dash": "solid"
         },
         "marker": {
          "symbol": "circle"
         },
         "mode": "lines",
         "name": "",
         "orientation": "v",
         "showlegend": false,
         "type": "scatter",
         "x": [
          "2023-11",
          "2023-12",
          "2024-01",
          "2024-02",
          "2024-03"
         ],
         "xaxis": "x",
         "y": [
          1,
          10,
          96,
          101887,
          142834
         ],
         "yaxis": "y"
        }
       ],
       "layout": {
        "legend": {
         "tracegroupgap": 0
        },
        "template": {
         "data": {
          "candlestick": [
           {
            "decreasing": {
             "line": {
              "color": "#000033"
             }
            },
            "increasing": {
             "line": {
              "color": "#000032"
             }
            },
            "type": "candlestick"
           }
          ],
          "contour": [
           {
            "colorscale": [
             [
              0,
              "#000011"
             ],
             [
              0.1111111111111111,
              "#000012"
             ],
             [
              0.2222222222222222,
              "#000013"
             ],
             [
              0.3333333333333333,
              "#000014"
             ],
             [
              0.4444444444444444,
              "#000015"
             ],
             [
              0.5555555555555556,
              "#000016"
             ],
             [
              0.6666666666666666,
              "#000017"
             ],
             [
              0.7777777777777778,
              "#000018"
             ],
             [
              0.8888888888888888,
              "#000019"
             ],
             [
              1,
              "#000020"
             ]
            ],
            "type": "contour"
           }
          ],
          "contourcarpet": [
           {
            "colorscale": [
             [
              0,
              "#000011"
             ],
             [
              0.1111111111111111,
              "#000012"
             ],
             [
              0.2222222222222222,
              "#000013"
             ],
             [
              0.3333333333333333,
              "#000014"
             ],
             [
              0.4444444444444444,
              "#000015"
             ],
             [
              0.5555555555555556,
              "#000016"
             ],
             [
              0.6666666666666666,
              "#000017"
             ],
             [
              0.7777777777777778,
              "#000018"
             ],
             [
              0.8888888888888888,
              "#000019"
             ],
             [
              1,
              "#000020"
             ]
            ],
            "type": "contourcarpet"
           }
          ],
          "heatmap": [
           {
            "colorscale": [
             [
              0,
              "#000011"
             ],
             [
              0.1111111111111111,
              "#000012"
             ],
             [
              0.2222222222222222,
              "#000013"
             ],
             [
              0.3333333333333333,
              "#000014"
             ],
             [
              0.4444444444444444,
              "#000015"
             ],
             [
              0.5555555555555556,
              "#000016"
             ],
             [
              0.6666666666666666,
              "#000017"
             ],
             [
              0.7777777777777778,
              "#000018"
             ],
             [
              0.8888888888888888,
              "#000019"
             ],
             [
              1,
              "#000020"
             ]
            ],
            "type": "heatmap"
           }
          ],
          "histogram2d": [
           {
            "colorscale": [
             [
              0,
              "#000011"
             ],
             [
              0.1111111111111111,
              "#000012"
             ],
             [
              0.2222222222222222,
              "#000013"
             ],
             [
              0.3333333333333333,
              "#000014"
             ],
             [
              0.4444444444444444,
              "#000015"
             ],
             [
              0.5555555555555556,
              "#000016"
             ],
             [
              0.6666666666666666,
              "#000017"
             ],
             [
              0.7777777777777778,
              "#000018"
             ],
             [
              0.8888888888888888,
              "#000019"
             ],
             [
              1,
              "#000020"
             ]
            ],
            "type": "histogram2d"
           }
          ],
          "icicle": [
           {
            "textfont": {
             "color": "white"
            },
            "type": "icicle"
           }
          ],
          "sankey": [
           {
            "textfont": {
             "color": "#000036"
            },
            "type": "sankey"
           }
          ],
          "scatter": [
           {
            "marker": {
             "line": {
              "width": 0
             }
            },
            "type": "scatter"
           }
          ],
          "table": [
           {
            "cells": {
             "fill": {
              "color": "#000038"
             },
             "font": {
              "color": "#000037"
             },
             "line": {
              "color": "#000039"
             }
            },
            "header": {
             "fill": {
              "color": "#000040"
             },
             "font": {
              "color": "#000036"
             },
             "line": {
              "color": "#000039"
             }
            },
            "type": "table"
           }
          ],
          "waterfall": [
           {
            "connector": {
             "line": {
              "color": "#000036",
              "width": 2
             }
            },
            "decreasing": {
             "marker": {
              "color": "#000033"
             }
            },
            "increasing": {
             "marker": {
              "color": "#000032"
             }
            },
            "totals": {
             "marker": {
              "color": "#000034"
             }
            },
            "type": "waterfall"
           }
          ]
         },
         "layout": {
          "coloraxis": {
           "colorscale": [
            [
             0,
             "#000011"
            ],
            [
             0.1111111111111111,
             "#000012"
            ],
            [
             0.2222222222222222,
             "#000013"
            ],
            [
             0.3333333333333333,
             "#000014"
            ],
            [
             0.4444444444444444,
             "#000015"
            ],
            [
             0.5555555555555556,
             "#000016"
            ],
            [
             0.6666666666666666,
             "#000017"
            ],
            [
             0.7777777777777778,
             "#000018"
            ],
            [
             0.8888888888888888,
             "#000019"
            ],
            [
             1,
             "#000020"
            ]
           ]
          },
          "colorscale": {
           "diverging": [
            [
             0,
             "#000021"
            ],
            [
             0.1,
             "#000022"
            ],
            [
             0.2,
             "#000023"
            ],
            [
             0.3,
             "#000024"
            ],
            [
             0.4,
             "#000025"
            ],
            [
             0.5,
             "#000026"
            ],
            [
             0.6,
             "#000027"
            ],
            [
             0.7,
             "#000028"
            ],
            [
             0.8,
             "#000029"
            ],
            [
             0.9,
             "#000030"
            ],
            [
             1,
             "#000031"
            ]
           ],
           "sequential": [
            [
             0,
             "#000011"
            ],
            [
             0.1111111111111111,
             "#000012"
            ],
            [
             0.2222222222222222,
             "#000013"
            ],
            [
             0.3333333333333333,
             "#000014"
            ],
            [
             0.4444444444444444,
             "#000015"
            ],
            [
             0.5555555555555556,
             "#000016"
            ],
            [
             0.6666666666666666,
             "#000017"
            ],
            [
             0.7777777777777778,
             "#000018"
            ],
            [
             0.8888888888888888,
             "#000019"
            ],
            [
             1,
             "#000020"
            ]
           ],
           "sequentialminus": [
            [
             0,
             "#000011"
            ],
            [
             0.1111111111111111,
             "#000012"
            ],
            [
             0.2222222222222222,
             "#000013"
            ],
            [
             0.3333333333333333,
             "#000014"
            ],
            [
             0.4444444444444444,
             "#000015"
            ],
            [
             0.5555555555555556,
             "#000016"
            ],
            [
             0.6666666666666666,
             "#000017"
            ],
            [
             0.7777777777777778,
             "#000018"
            ],
            [
             0.8888888888888888,
             "#000019"
            ],
            [
             1,
             "#000020"
            ]
           ]
          },
          "colorway": [
           "#000001",
           "#000002",
           "#000003",
           "#000004",
           "#000005",
           "#000006",
           "#000007",
           "#000008",
           "#000009",
           "#000010"
          ]
         }
        },
        "title": {
         "text": "Job Postings Over Time"
        },
        "xaxis": {
         "anchor": "y",
         "domain": [
          0,
          1
         ],
         "title": {
          "text": "Month"
         }
        },
        "yaxis": {
         "anchor": "x",
         "domain": [
          0,
          1
         ],
         "title": {
          "text": "Number of Job Postings"
         }
        }
       }
      }
     },
     "metadata": {},
     "output_type": "display_data"
    }
   ],
   "source": [
    "\n",
    "import plotly.express as px\n",
    "\n",
    "# Ensure 'published_date' is in datetime format\n",
    "df['published_date'] = pd.to_datetime(df['published_date'])\n",
    "\n",
    "# Extract month and year from 'published_date'\n",
    "df['year_month'] = df['published_date'].dt.to_period('M')\n",
    "\n",
    "# Group by 'year_month' to get the count of job postings each month\n",
    "monthly_job_counts = df.groupby('year_month').size().reset_index(name='job_count')\n",
    "\n",
    "# Convert 'year_month' to string format\n",
    "monthly_job_counts['year_month'] = monthly_job_counts['year_month'].astype(str)\n",
    "\n",
    "# Create a line plot to show job postings over time\n",
    "fig = px.line(monthly_job_counts, x='year_month', y='job_count', title='Job Postings Over Time', labels={'year_month': 'Month', 'job_count': 'Number of Job Postings'})\n",
    "\n",
    "# Show the plot\n",
    "fig.show()\n",
    "\n"
   ]
  },
  {
   "cell_type": "markdown",
   "metadata": {},
   "source": [
    "Monthly Trends in the Job Market\n",
    "\n",
    "It increases gradually after 31 December, 2023\n"
   ]
  },
  {
   "cell_type": "markdown",
   "metadata": {},
   "source": [
    "Using Streamlit"
   ]
  },
  {
   "cell_type": "code",
   "execution_count": 17,
   "metadata": {},
   "outputs": [],
   "source": [
    "import pandas as pd\n",
    "import plotly.express as px\n",
    "import streamlit as st\n",
    "\n",
    "# Function to load and process data\n",
    "def load_data():\n",
    "    df = pd.read_csv(r\"C:\\Users\\Niti\\NEXT HIKES\\PROJECT 8\\all_upwork_jobs_next.csv\")\n",
    "    \n",
    "    # Ensure 'published_date' is in datetime format and remove timezone information if present\n",
    "    df['published_date'] = pd.to_datetime(df['published_date']).dt.tz_localize(None)\n",
    "    \n",
    "    # Extract month and year from 'published_date'\n",
    "    df['year_month'] = df['published_date'].dt.to_period('M')\n",
    "    \n",
    "    # Group by 'year_month' to get the count of job postings each month\n",
    "    monthly_job_counts = df.groupby('year_month').size().reset_index(name='job_count')\n",
    "    \n",
    "    # Convert 'year_month' to string format\n",
    "    monthly_job_counts['year_month'] = monthly_job_counts['year_month'].astype(str)\n",
    "    \n",
    "    return monthly_job_counts\n",
    "\n",
    "# Load data\n",
    "monthly_job_counts = load_data()\n",
    "\n",
    "# Create Streamlit app\n",
    "st.title('Job Market Dynamics Dashboard')\n",
    "\n",
    "# Create a line plot to show job postings over time with customizations\n",
    "fig = px.line(monthly_job_counts, x='year_month', y='job_count', title='Job Postings Over Time', labels={'year_month': 'Month', 'job_count': 'Number of Job Postings'})\n",
    "fig.update_traces(line=dict(color='royalblue', width=4))\n",
    "fig.update_layout(width=800, height=600)\n",
    "\n",
    "# Show the plot\n",
    "st.plotly_chart(fig)\n",
    "\n",
    "# Refresh button\n",
    "if st.button('Refresh Data'):\n",
    "    st.experimental_rerun()\n"
   ]
  },
  {
   "cell_type": "code",
   "execution_count": 18,
   "metadata": {},
   "outputs": [
    {
     "name": "stderr",
     "output_type": "stream",
     "text": [
      "c:\\Users\\Niti\\anaconda3\\Lib\\site-packages\\pyarrow\\pandas_compat.py:373: FutureWarning:\n",
      "\n",
      "is_sparse is deprecated and will be removed in a future version. Check `isinstance(dtype, pd.SparseDtype)` instead.\n",
      "\n"
     ]
    }
   ],
   "source": [
    "import pandas as pd\n",
    "import plotly.express as px\n",
    "import streamlit as st\n",
    "\n",
    "# Function to load and process data\n",
    "def load_data():\n",
    "    try:\n",
    "        df = pd.read_csv(r\"C:\\Users\\Niti\\NEXT HIKES\\PROJECT 8\\all_upwork_jobs_next.csv\")\n",
    "        st.write(\"Data loaded successfully\")\n",
    "    except Exception as e:\n",
    "        st.error(f\"Error loading data: {e}\")\n",
    "        return pd.DataFrame()\n",
    "\n",
    "    # Ensure 'published_date' is in datetime format and remove timezone information if present\n",
    "    try:\n",
    "        df['published_date'] = pd.to_datetime(df['published_date']).dt.tz_localize(None)\n",
    "        st.write(\"Published date converted successfully\")\n",
    "    except Exception as e:\n",
    "        st.error(f\"Error converting published_date: {e}\")\n",
    "        return pd.DataFrame()\n",
    "\n",
    "    # Extract month and year from 'published_date'\n",
    "    try:\n",
    "        df['year_month'] = df['published_date'].dt.to_period('M')\n",
    "        st.write(\"Year and month extracted successfully\")\n",
    "    except Exception as e:\n",
    "        st.error(f\"Error extracting year_month: {e}\")\n",
    "        return pd.DataFrame()\n",
    "\n",
    "    # Group by 'year_month' to get the count of job postings each month\n",
    "    try:\n",
    "        monthly_job_counts = df.groupby('year_month').size().reset_index(name='job_count')\n",
    "        monthly_job_counts['year_month'] = monthly_job_counts['year_month'].astype(str)\n",
    "        st.write(\"Monthly job counts calculated successfully\")\n",
    "    except Exception as e:\n",
    "        st.error(f\"Error calculating monthly job counts: {e}\")\n",
    "        return pd.DataFrame()\n",
    "\n",
    "    return monthly_job_counts\n",
    "\n",
    "# Load data\n",
    "monthly_job_counts = load_data()\n",
    "\n",
    "# Check if data is not empty\n",
    "if monthly_job_counts.empty:\n",
    "    st.error(\"No data to display\")\n",
    "else:\n",
    "    st.write(\"Processed data:\", monthly_job_counts.head())\n",
    "\n",
    "    # Create Streamlit app\n",
    "    st.title('Job Market Dynamics Dashboard')\n",
    "\n",
    "    # Create a line plot to show job postings over time with customizations\n",
    "    fig = px.line(monthly_job_counts, x='year_month', y='job_count', \n",
    "                  title='Job Postings Over Time', \n",
    "                  labels={'year_month': 'Month', 'job_count': 'Number of Job Postings'})\n",
    "    fig.update_traces(line=dict(color='royalblue', width=4))\n",
    "    fig.update_layout(width=800, height=600)\n",
    "\n",
    "    # Show the plot\n",
    "    st.plotly_chart(fig)\n",
    "\n",
    "    # Refresh button\n",
    "    if st.button('Refresh Data'):\n",
    "        st.experimental_rerun()\n"
   ]
  },
  {
   "cell_type": "markdown",
   "metadata": {},
   "source": [
    "Task 7: Investigate trends in the remote work landscape\n",
    "\n",
    "●\tObjective: To analyze trends and shifts towards remote work.\n",
    "\n",
    "●\tDeliverables: A comprehensive report on remote work trends with data-backed forecasts.\n"
   ]
  },
  {
   "cell_type": "markdown",
   "metadata": {},
   "source": [
    "Data Analysis and Visualization"
   ]
  },
  {
   "cell_type": "code",
   "execution_count": 19,
   "metadata": {},
   "outputs": [
    {
     "name": "stderr",
     "output_type": "stream",
     "text": [
      "C:\\Users\\Niti\\AppData\\Local\\Temp\\ipykernel_1488\\1689762205.py:31: SettingWithCopyWarning:\n",
      "\n",
      "\n",
      "A value is trying to be set on a copy of a slice from a DataFrame.\n",
      "Try using .loc[row_indexer,col_indexer] = value instead\n",
      "\n",
      "See the caveats in the documentation: https://pandas.pydata.org/pandas-docs/stable/user_guide/indexing.html#returning-a-view-versus-a-copy\n",
      "\n",
      "c:\\Users\\Niti\\anaconda3\\Lib\\site-packages\\pyarrow\\pandas_compat.py:373: FutureWarning:\n",
      "\n",
      "is_sparse is deprecated and will be removed in a future version. Check `isinstance(dtype, pd.SparseDtype)` instead.\n",
      "\n"
     ]
    }
   ],
   "source": [
    "import pandas as pd\n",
    "import plotly.express as px\n",
    "import streamlit as st\n",
    "\n",
    "# Function to load and process data\n",
    "def load_data():\n",
    "    try:\n",
    "        df = pd.read_csv(r\"C:\\Users\\Niti\\NEXT HIKES\\PROJECT 8\\all_upwork_jobs_next.csv\")\n",
    "        st.write(\"Data loaded successfully\")\n",
    "    except Exception as e:\n",
    "        st.error(f\"Error loading data: {e}\")\n",
    "        return pd.DataFrame()\n",
    "\n",
    "    # Ensure 'published_date' is in datetime format and remove timezone information if present\n",
    "    try:\n",
    "        df['published_date'] = pd.to_datetime(df['published_date']).dt.tz_localize(None)\n",
    "        st.write(\"Published date converted successfully\")\n",
    "    except Exception as e:\n",
    "        st.error(f\"Error converting published_date: {e}\")\n",
    "        return pd.DataFrame()\n",
    "\n",
    "    return df\n",
    "\n",
    "# Load data\n",
    "df = load_data()\n",
    "\n",
    "# Filter for remote jobs\n",
    "remote_jobs = df[df['title'].str.contains('remote', case=False, na=False)]\n",
    "\n",
    "# Extract year and month from 'published_date'\n",
    "remote_jobs['year_month'] = remote_jobs['published_date'].dt.to_period('M')\n",
    "\n",
    "# Group by 'year_month' to get the count of remote job postings each month\n",
    "monthly_remote_job_counts = remote_jobs.groupby('year_month').size().reset_index(name='job_count')\n",
    "monthly_remote_job_counts['year_month'] = monthly_remote_job_counts['year_month'].astype(str)\n",
    "\n",
    "# Check if data is not empty\n",
    "if monthly_remote_job_counts.empty:\n",
    "    st.error(\"No data to display\")\n",
    "else:\n",
    "    st.write(\"Processed data:\", monthly_remote_job_counts.head())\n",
    "\n",
    "    # Create Streamlit app\n",
    "    st.title('Remote Work Trends Dashboard')\n",
    "\n",
    "    # Create a line plot to show remote job postings over time with customizations\n",
    "    fig = px.line(monthly_remote_job_counts, x='year_month', y='job_count', \n",
    "                  title='Remote Job Postings Over Time', \n",
    "                  labels={'year_month': 'Month', 'job_count': 'Number of Remote Job Postings'})\n",
    "    fig.update_traces(line=dict(color='royalblue', width=4))\n",
    "    fig.update_layout(width=800, height=600)\n",
    "\n",
    "    # Show the plot\n",
    "    st.plotly_chart(fig)\n",
    "\n",
    "    # Refresh button\n",
    "    if st.button('Refresh Data'):\n",
    "        st.experimental_rerun()\n"
   ]
  },
  {
   "cell_type": "markdown",
   "metadata": {},
   "source": [
    "Forecasting"
   ]
  },
  {
   "cell_type": "code",
   "execution_count": 20,
   "metadata": {},
   "outputs": [
    {
     "name": "stderr",
     "output_type": "stream",
     "text": [
      "19:40:36 - cmdstanpy - INFO - Chain [1] start processing\n",
      "19:40:36 - cmdstanpy - INFO - Chain [1] done processing\n",
      "c:\\Users\\Niti\\anaconda3\\Lib\\site-packages\\prophet\\plot.py:72: FutureWarning:\n",
      "\n",
      "The behavior of DatetimeProperties.to_pydatetime is deprecated, in a future version this will return a Series containing python datetime objects instead of an ndarray. To retain the old behavior, call `np.array` on the result\n",
      "\n",
      "c:\\Users\\Niti\\anaconda3\\Lib\\site-packages\\prophet\\plot.py:73: FutureWarning:\n",
      "\n",
      "The behavior of DatetimeProperties.to_pydatetime is deprecated, in a future version this will return a Series containing python datetime objects instead of an ndarray. To retain the old behavior, call `np.array` on the result\n",
      "\n",
      "c:\\Users\\Niti\\anaconda3\\Lib\\site-packages\\pyarrow\\pandas_compat.py:373: FutureWarning:\n",
      "\n",
      "is_sparse is deprecated and will be removed in a future version. Check `isinstance(dtype, pd.SparseDtype)` instead.\n",
      "\n"
     ]
    },
    {
     "data": {
      "image/png": "[encoded data removed]",
      "text/plain": [
       "<Figure size 1000x600 with 1 Axes>"
      ]
     },
     "metadata": {},
     "output_type": "display_data"
    }
   ],
   "source": [
    "from prophet import Prophet\n",
    "\n",
    "# Prepare data for Prophet\n",
    "monthly_remote_job_counts['ds'] = pd.to_datetime(monthly_remote_job_counts['year_month'])\n",
    "monthly_remote_job_counts['y'] = monthly_remote_job_counts['job_count']\n",
    "prophet_df = monthly_remote_job_counts[['ds', 'y']]\n",
    "\n",
    "# Initialize and fit Prophet model\n",
    "model = Prophet()\n",
    "model.fit(prophet_df)\n",
    "\n",
    "# Create future dataframe and make predictions\n",
    "future = model.make_future_dataframe(periods=12, freq='M')  # Forecast for the next 12 months\n",
    "forecast = model.predict(future)\n",
    "\n",
    "# Plot the forecast\n",
    "fig_forecast = model.plot(forecast)\n",
    "\n",
    "# Streamlit app to display forecast\n",
    "st.title('Remote Work Forecast')\n",
    "\n",
    "st.write(\"Forecast data:\", forecast[['ds', 'yhat', 'yhat_lower', 'yhat_upper']].tail())\n",
    "\n",
    "st.write(fig_forecast)\n"
   ]
  },
  {
   "cell_type": "markdown",
   "metadata": {},
   "source": [
    "Comprehensive Report"
   ]
  },
  {
   "cell_type": "code",
   "execution_count": 21,
   "metadata": {},
   "outputs": [],
   "source": [
    "import matplotlib.pyplot as plt\n",
    "\n",
    "# Generate and display the forecast plot\n",
    "st.pyplot(fig_forecast)\n",
    "\n",
    "# Generate and display the trends plot\n",
    "st.plotly_chart(fig)\n",
    "\n",
    "# Summary and insights\n",
    "st.header('Summary and Insights')\n",
    "st.write(\"\"\"\n",
    "- The number of remote job postings has shown [increase] over the past months.\n",
    "- According to the forecast, the trend is expected to [continue] in the coming year.\n",
    "- Key factors influencing this trend include factors such as industry changes, economic conditions, etc.\n",
    "\"\"\")\n"
   ]
  },
  {
   "cell_type": "markdown",
   "metadata": {},
   "source": [
    "Task 8: Predict future job market trends\n",
    "\n",
    "●\tObjective: To use the analyzed data to predict future trends in the job market.\n",
    "\n",
    "●\tDeliverables: A predictive analytics report with potential future scenarios\n"
   ]
  },
  {
   "cell_type": "code",
   "execution_count": 22,
   "metadata": {},
   "outputs": [],
   "source": [
    "import warnings\n",
    "warnings.filterwarnings(\"ignore\", category=FutureWarning)\n",
    "warnings.filterwarnings(\"ignore\", category=UserWarning)\n"
   ]
  },
  {
   "cell_type": "code",
   "execution_count": 23,
   "metadata": {},
   "outputs": [
    {
     "name": "stderr",
     "output_type": "stream",
     "text": [
      "19:40:53 - cmdstanpy - INFO - Chain [1] start processing\n",
      "19:40:59 - cmdstanpy - INFO - Chain [1] done processing\n"
     ]
    },
    {
     "data": {
      "image/png": "[encoded data removed]",
      "text/plain": [
       "<Figure size 1000x600 with 1 Axes>"
      ]
     },
     "metadata": {},
     "output_type": "display_data"
    }
   ],
   "source": [
    "# Import necessary libraries\n",
    "import pandas as pd\n",
    "from prophet import Prophet\n",
    "import matplotlib.pyplot as plt\n",
    "\n",
    "# Ensure plots are displayed in the notebook\n",
    "%matplotlib inline\n",
    "\n",
    "# Load your dataset\n",
    "df = pd.read_csv(r\"C:\\Users\\Niti\\NEXT HIKES\\PROJECT 8\\all_upwork_jobs_next.csv\")\n",
    "\n",
    "# Convert 'published_date' column to datetime\n",
    "df['published_date'] = pd.to_datetime(df['published_date'])\n",
    "\n",
    "# Remove timezone information from 'published_date' column\n",
    "df['published_date'] = df['published_date'].dt.tz_localize(None)\n",
    "\n",
    "# Rename columns for Prophet compatibility\n",
    "df = df.rename(columns={'published_date': 'ds', 'budget': 'y'})\n",
    "\n",
    "# Create and fit the Prophet model\n",
    "model = Prophet()\n",
    "model.fit(df)\n",
    "\n",
    "# Make future predictions\n",
    "future = model.make_future_dataframe(periods=365)  # Predicting for the next year\n",
    "forecast = model.predict(future)\n",
    "\n",
    "# Plot the forecast\n",
    "fig = model.plot(forecast)\n",
    "\n",
    "# Show the plot\n",
    "plt.show()\n"
   ]
  },
  {
   "cell_type": "code",
   "execution_count": null,
   "metadata": {},
   "outputs": [],
   "source": []
  }
 ],
 "metadata": {
  "kernelspec": {
   "display_name": "base",
   "language": "python",
   "name": "python3"
  },
  "language_info": {
   "codemirror_mode": {
    "name": "ipython",
    "version": 3
   },
   "file_extension": ".py",
   "mimetype": "text/x-python",
   "name": "python",
   "nbconvert_exporter": "python",
   "pygments_lexer": "ipython3",
   "version": "3.11.5"
  }
 },
 "nbformat": 4,
 "nbformat_minor": 2
}
