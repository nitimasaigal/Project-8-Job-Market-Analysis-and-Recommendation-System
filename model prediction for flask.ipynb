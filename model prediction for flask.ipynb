{
 "cells": [
  {
   "cell_type": "markdown",
   "metadata": {},
   "source": [
    "Data Preprocessing"
   ]
  },
  {
   "cell_type": "code",
   "execution_count": 1,
   "metadata": {},
   "outputs": [
    {
     "data": {
      "text/plain": [
       "['tfidf_location.pkl']"
      ]
     },
     "execution_count": 1,
     "metadata": {},
     "output_type": "execute_result"
    }
   ],
   "source": [
    "import pandas as pd\n",
    "from sklearn.feature_extraction.text import TfidfVectorizer\n",
    "from sklearn.ensemble import RandomForestRegressor\n",
    "from sklearn.pipeline import Pipeline\n",
    "import joblib\n",
    "\n",
    "# Load your dataset\n",
    "data = pd.read_csv(r\"C:\\Users\\Niti\\NEXT HIKES\\PROJECT 8\\jobs.csv\")\n",
    "\n",
    "# Ensure all text columns are of type string\n",
    "text_columns = ['job_title', 'company', 'location']\n",
    "for col in text_columns:\n",
    "    data[col] = data[col].astype(str)\n",
    "\n",
    "# Preprocess the text data\n",
    "tfidf_job_title = TfidfVectorizer(max_features=100)\n",
    "tfidf_company = TfidfVectorizer(max_features=100)\n",
    "tfidf_location = TfidfVectorizer(max_features=100)\n",
    "\n",
    "X_job_title = tfidf_job_title.fit_transform(data['job_title'])\n",
    "X_company = tfidf_company.fit_transform(data['company'])\n",
    "X_location = tfidf_location.fit_transform(data['location'])\n",
    "\n",
    "# Combine the TF-IDF features with the numerical salary feature\n",
    "X = pd.concat([\n",
    "    pd.DataFrame(X_job_title.toarray(), index=data.index),\n",
    "    pd.DataFrame(X_company.toarray(), index=data.index),\n",
    "    pd.DataFrame(X_location.toarray(), index=data.index)\n",
    "], axis=1)\n",
    "X.columns = X.columns.astype(str)  # Convert column names to strings\n",
    "\n",
    "y = data['salary']  # Assuming 'salary' is the target variable for prediction\n",
    "\n",
    "# Define the model pipeline\n",
    "model = Pipeline([\n",
    "    ('regressor', RandomForestRegressor())\n",
    "])\n",
    "\n",
    "# Fit the model\n",
    "model.fit(X, y)\n",
    "\n",
    "# Save the model and the TF-IDF vectorizers\n",
    "joblib.dump(model, 'budget_predictor_model.pkl')\n",
    "joblib.dump(tfidf_job_title, 'tfidf_job_title.pkl')\n",
    "joblib.dump(tfidf_company, 'tfidf_company.pkl')\n",
    "joblib.dump(tfidf_location, 'tfidf_location.pkl')\n"
   ]
  },
  {
   "cell_type": "code",
   "execution_count": 1,
   "metadata": {},
   "outputs": [],
   "source": [
    "import pandas as pd\n",
    "\n",
    "# Load the data\n",
    "df = pd.read_csv(r\"C:\\Users\\Niti\\NEXT HIKES\\PROJECT 8\\all_upwork_jobs_next.csv\")\n",
    "\n",
    "# Convert 'published_date' to datetime\n",
    "df['published_date'] = pd.to_datetime(df['published_date'])\n",
    "\n",
    "# Extract month and year\n",
    "df['month'] = df['published_date'].dt.month\n",
    "df['year'] = df['published_date'].dt.year\n",
    "\n",
    "# Handle missing values (example: fill missing budget with median)\n",
    "df['budget'].fillna(df['budget'].median(), inplace=True)\n",
    "\n",
    "# Encode categorical variables\n",
    "df = pd.get_dummies(df, columns=['country', 'category'], drop_first=True)\n",
    "\n",
    "# Feature engineering: create new features if necessary\n",
    "df['avg_salary'] = df[['hourly_low', 'hourly_high']].mean(axis=1)\n"
   ]
  },
  {
   "cell_type": "code",
   "execution_count": null,
   "metadata": {},
   "outputs": [],
   "source": []
  },
  {
   "cell_type": "markdown",
   "metadata": {},
   "source": [
    "Model Building"
   ]
  },
  {
   "cell_type": "code",
   "execution_count": 2,
   "metadata": {},
   "outputs": [
    {
     "name": "stdout",
     "output_type": "stream",
     "text": [
      "Mean Squared Error: 144283947.7489486\n"
     ]
    }
   ],
   "source": [
    "from sklearn.model_selection import train_test_split\n",
    "from sklearn.ensemble import RandomForestRegressor\n",
    "from sklearn.metrics import mean_squared_error\n",
    "\n",
    "# Define features and target\n",
    "X = df.drop(columns=['title', 'link', 'published_date', 'budget'])\n",
    "y = df['budget']\n",
    "\n",
    "# Split data into training and testing sets\n",
    "X_train, X_test, y_train, y_test = train_test_split(X, y, test_size=0.2, random_state=42)\n",
    "\n",
    "# Initialize and train the model\n",
    "model = RandomForestRegressor(n_estimators=100, random_state=42)\n",
    "model.fit(X_train, y_train)\n",
    "\n",
    "# Predict and evaluate the model    \n",
    "y_pred = model.predict(X_test)\n",
    "mse = mean_squared_error(y_test, y_pred)\n",
    "print(f'Mean Squared Error: {mse}')\n"
   ]
  },
  {
   "cell_type": "markdown",
   "metadata": {},
   "source": [
    "Saving the Model"
   ]
  },
  {
   "cell_type": "code",
   "execution_count": 3,
   "metadata": {},
   "outputs": [
    {
     "data": {
      "text/plain": [
       "['budget_predictor_model.pkl']"
      ]
     },
     "execution_count": 3,
     "metadata": {},
     "output_type": "execute_result"
    }
   ],
   "source": [
    "import joblib\n",
    "\n",
    "# Save the model\n",
    "joblib.dump(model, 'budget_predictor_model.pkl')\n"
   ]
  },
  {
   "cell_type": "code",
   "execution_count": null,
   "metadata": {},
   "outputs": [],
   "source": []
  }
 ],
 "metadata": {
  "kernelspec": {
   "display_name": "base",
   "language": "python",
   "name": "python3"
  },
  "language_info": {
   "codemirror_mode": {
    "name": "ipython",
    "version": 3
   },
   "file_extension": ".py",
   "mimetype": "text/x-python",
   "name": "python",
   "nbconvert_exporter": "python",
   "pygments_lexer": "ipython3",
   "version": "3.11.5"
  }
 },
 "nbformat": 4,
 "nbformat_minor": 2
}
